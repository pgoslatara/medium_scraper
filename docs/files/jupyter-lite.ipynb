{
 "cells": [
  {
   "cell_type": "code",
   "execution_count": null,
   "id": "0",
   "metadata": {
    "papermill": {
     "duration": 0.98725,
     "end_time": "2025-08-22T06:49:27.072035",
     "exception": false,
     "start_time": "2025-08-22T06:49:26.084785",
     "status": "completed"
    },
    "tags": []
   },
   "outputs": [],
   "source": [
    "%pip install fastparquet \"ipywidgets>=7.0.0\" matplotlib pandas seaborn"
   ]
  },
  {
   "cell_type": "code",
   "execution_count": null,
   "id": "1",
   "metadata": {
    "papermill": {
     "duration": 0.306562,
     "end_time": "2025-08-22T06:49:27.380339",
     "exception": false,
     "start_time": "2025-08-22T06:49:27.073777",
     "status": "completed"
    },
    "tags": []
   },
   "outputs": [],
   "source": [
    "import os\n",
    "import pandas as pd\n",
    "\n",
    "def load_file_to_df(file_name: str) -> pd.DataFrame:\n",
    "    if os.getcwd() == \"/drive\":\n",
    "        data = pd.read_parquet(f'/drive/{file_name}')\n",
    "    else:\n",
    "        data = pd.read_parquet(f'{os.getenv(\"DATA_DIR\")}/marts/{file_name}')\n",
    "\n",
    "    return data"
   ]
  },
  {
   "cell_type": "code",
   "execution_count": null,
   "id": "2",
   "metadata": {
    "papermill": {
     "duration": 2.070812,
     "end_time": "2025-08-22T06:49:29.452707",
     "exception": false,
     "start_time": "2025-08-22T06:49:27.381895",
     "status": "completed"
    },
    "tags": []
   },
   "outputs": [],
   "source": [
    "from datetime import datetime\n",
    "import matplotlib.pyplot as plt\n",
    "import matplotlib.ticker as ticker\n",
    "import seaborn as sns\n",
    "\n",
    "df = load_file_to_df(\"fct_medium_blogs.parquet\")\n",
    "df_blogs_per_day = df.groupby([\"published_date\"])[\"story_url\"].count().rename(\"num_blogs\").sort_index().reset_index()\n",
    "df_blogs_per_day[\"published_date\"] = pd.to_datetime(df_blogs_per_day[\"published_date\"])\n",
    "df_blogs_per_day = df_blogs_per_day[df_blogs_per_day[\"published_date\"] > (datetime.utcnow()- pd.Timedelta(days=90))]\n",
    "\n",
    "fig, ax = plt.subplots(figsize=(12,8), dpi= 200)    \n",
    "plt.title(\"Number of relevant Medium blogs per day\")\n",
    "fig = sns.barplot(x = \"published_date\", y = \"num_blogs\", data = df_blogs_per_day, estimator = sum, errorbar=None, ax=ax)\n",
    "x_dates = df_blogs_per_day['published_date'].dt.strftime('%Y-%m-%d').sort_values().unique()\n",
    "ax.xaxis.set_major_locator(ticker.MaxNLocator(4))"
   ]
  },
  {
   "cell_type": "code",
   "execution_count": null,
   "id": "3",
   "metadata": {
    "papermill": {
     "duration": 0.384507,
     "end_time": "2025-08-22T06:49:29.839355",
     "exception": false,
     "start_time": "2025-08-22T06:49:29.454848",
     "status": "completed"
    },
    "tags": []
   },
   "outputs": [],
   "source": [
    "df_github_action_usage = load_file_to_df(\"reports/rpt_github_action_usage.parquet\")\n",
    "df_github_action_usage.index = df_github_action_usage[\"run_started_date\"]\n",
    "df_github_action_usage.drop(columns=[\"run_started_date\"], inplace=True)\n",
    "\n",
    "fig, ax = plt.subplots(figsize=(12,8), dpi= 200)    \n",
    "plt.title(\"Github Action billable minutes per month\")\n",
    "fig = sns.barplot(x = \"run_started_date\", y = \"billable_minutes_cum_sum\", data = df_github_action_usage, ax=ax)\n",
    "ax.xaxis.set_major_locator(ticker.MaxNLocator(4))"
   ]
  }
 ],
 "metadata": {
  "kernelspec": {
   "display_name": ".venv",
   "language": "python",
   "name": "python3"
  },
  "language_info": {
   "codemirror_mode": {
    "name": "ipython",
    "version": 3
   },
   "file_extension": ".py",
   "mimetype": "text/x-python",
   "name": "python",
   "nbconvert_exporter": "python",
   "pygments_lexer": "ipython3",
   "version": "3.11.6"
  },
  "papermill": {
   "default_parameters": {},
   "duration": 5.105438,
   "end_time": "2025-08-22T06:49:30.157938",
   "environment_variables": {},
   "exception": null,
   "input_path": "./src/data_products/jupyter-lite.ipynb",
   "output_path": "./src/data_products/jupyter-lite.ipynb",
   "parameters": {},
   "start_time": "2025-08-22T06:49:25.052500",
   "version": "2.5.0"
  }
 },
 "nbformat": 4,
 "nbformat_minor": 5
}
