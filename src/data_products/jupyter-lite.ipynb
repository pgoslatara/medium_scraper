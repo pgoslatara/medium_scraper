{
 "cells": [
  {
   "cell_type": "code",
   "execution_count": null,
   "id": "0",
   "metadata": {
    "papermill": {
     "duration": 0.950127,
     "end_time": "2025-05-09T06:43:21.631035",
     "exception": false,
     "start_time": "2025-05-09T06:43:20.680908",
     "status": "completed"
    },
    "tags": []
   },
   "outputs": [],
   "source": [
    "%pip install fastparquet \"ipywidgets>=7.0.0\" matplotlib pandas seaborn"
   ]
  },
  {
   "cell_type": "code",
   "execution_count": null,
   "id": "1",
   "metadata": {
    "papermill": {
     "duration": 0.305772,
     "end_time": "2025-05-09T06:43:21.938444",
     "exception": false,
     "start_time": "2025-05-09T06:43:21.632672",
     "status": "completed"
    },
    "tags": []
   },
   "outputs": [],
   "source": [
    "import os\n",
    "import pandas as pd\n",
    "\n",
    "def load_file_to_df(file_name: str) -> pd.DataFrame:\n",
    "    if os.getcwd() == \"/drive\":\n",
    "        data = pd.read_parquet(f'/drive/{file_name}')\n",
    "    else:\n",
    "        data = pd.read_parquet(f'{os.getenv(\"DATA_DIR\")}/marts/{file_name}')\n",
    "\n",
    "    return data"
   ]
  },
  {
   "cell_type": "code",
   "execution_count": null,
   "id": "2",
   "metadata": {
    "papermill": {
     "duration": 1.039055,
     "end_time": "2025-05-09T06:43:22.979051",
     "exception": false,
     "start_time": "2025-05-09T06:43:21.939996",
     "status": "completed"
    },
    "tags": []
   },
   "outputs": [],
   "source": [
    "from datetime import datetime\n",
    "import matplotlib.pyplot as plt\n",
    "import matplotlib.ticker as ticker\n",
    "import seaborn as sns\n",
    "\n",
    "df = load_file_to_df(\"fct_medium_blogs.parquet\")\n",
    "df_blogs_per_day = df.groupby([\"published_date\"])[\"story_url\"].count().rename(\"num_blogs\").sort_index().reset_index()\n",
    "df_blogs_per_day[\"published_date\"] = pd.to_datetime(df_blogs_per_day[\"published_date\"])\n",
    "df_blogs_per_day = df_blogs_per_day[df_blogs_per_day[\"published_date\"] > (datetime.utcnow()- pd.Timedelta(days=90))]\n",
    "\n",
    "fig, ax = plt.subplots(figsize=(12,8), dpi= 200)    \n",
    "plt.title(\"Number of relevant Medium blogs per day\")\n",
    "fig = sns.barplot(x = \"published_date\", y = \"num_blogs\", data = df_blogs_per_day, estimator = sum, errorbar=None, ax=ax)\n",
    "x_dates = df_blogs_per_day['published_date'].dt.strftime('%Y-%m-%d').sort_values().unique()\n",
    "ax.xaxis.set_major_locator(ticker.MaxNLocator(4))"
   ]
  },
  {
   "cell_type": "code",
   "execution_count": null,
   "id": "3",
   "metadata": {
    "papermill": {
     "duration": 0.37746,
     "end_time": "2025-05-09T06:43:23.358604",
     "exception": false,
     "start_time": "2025-05-09T06:43:22.981144",
     "status": "completed"
    },
    "tags": []
   },
   "outputs": [],
   "source": [
    "df_github_action_usage = load_file_to_df(\"reports/rpt_github_action_usage.parquet\")\n",
    "df_github_action_usage.index = df_github_action_usage[\"run_started_date\"]\n",
    "df_github_action_usage.drop(columns=[\"run_started_date\"], inplace=True)\n",
    "\n",
    "fig, ax = plt.subplots(figsize=(12,8), dpi= 200)    \n",
    "plt.title(\"Github Action billable minutes per month\")\n",
    "fig = sns.barplot(x = \"run_started_date\", y = \"billable_minutes_cum_sum\", data = df_github_action_usage, ax=ax)\n",
    "ax.xaxis.set_major_locator(ticker.MaxNLocator(4))"
   ]
  }
 ],
 "metadata": {
  "kernelspec": {
   "display_name": ".venv",
   "language": "python",
   "name": "python3"
  },
  "language_info": {
   "codemirror_mode": {
    "name": "ipython",
    "version": 3
   },
   "file_extension": ".py",
   "mimetype": "text/x-python",
   "name": "python",
   "nbconvert_exporter": "python",
   "pygments_lexer": "ipython3",
   "version": "3.11.6"
  },
  "papermill": {
   "default_parameters": {},
   "duration": 3.867777,
   "end_time": "2025-05-09T06:43:23.676961",
   "environment_variables": {},
   "exception": null,
   "input_path": "./src/data_products/jupyter-lite.ipynb",
   "output_path": "./src/data_products/jupyter-lite.ipynb",
   "parameters": {},
   "start_time": "2025-05-09T06:43:19.809184",
   "version": "2.5.0"
  }
 },
 "nbformat": 4,
 "nbformat_minor": 5
}
